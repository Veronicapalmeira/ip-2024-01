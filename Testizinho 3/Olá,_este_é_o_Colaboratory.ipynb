{
  "cells": [
    {
      "cell_type": "code",
      "source": [
        "//1\n",
        "package main\n",
        "\n",
        "import \"fmt\"\n",
        "\n",
        "func inverter(palavra string) string {\n",
        "    invertida:=\" \" // armazenar palavra ao contrario\n",
        "    for i:= len(palavra)-1; i>=0; i--{\n",
        "        invertida+=string(palavra[i])\n",
        "    }\n",
        "    return invertida\n",
        "}\n",
        "\n",
        "func main() {\n",
        "    var quantidade int\n",
        "    fmt.Scan(&quantidade)//quantidade de palavras\n",
        "\n",
        "    var palavras []string=make([]string,quantidade)\n",
        "    for i:= 0; i<quantidade; i++{\n",
        "        fmt.Scan(&palavras[i])\n",
        "    }\n",
        "\n",
        "    for i:= 0; i<quantidade; i++{\n",
        "        palavraInvertida:=inverter(palavras[i])\n",
        "        fmt.Println(palavraInvertida)\n",
        "    }\n",
        "}//jeito mais simples que me ensinaram, mas ainda é difícil\n"
      ],
      "metadata": {
        "id": "kVcjs96gNPsk"
      },
      "execution_count": null,
      "outputs": []
    },
    {
      "cell_type": "code",
      "source": [
        "//2\n",
        "package main\n",
        "\n",
        "import \"fmt\"\n",
        "\n",
        "func troca(vetor []int, x, y int) {//troca dois numeros(?) de um vetor\n",
        "\tvetor[x], vetor[y] = vetor[y], vetor[x]\n",
        "}\n",
        "\n",
        "\n",
        "func trocaOpostosSeMenor(vetor []int) {//verifica e ve se precisa trocar numeros(?) opostos\n",
        "\tn := len(vetor)\n",
        "\tfor i := 0; i < n/2; i++ {\n",
        "\t\toposto := n - 1 - i//cada numero i tá oposto ao elemento n-1-i\n",
        "\t\tif i < oposto && vetor[i] < vetor[oposto] {\n",
        "\t\t\ttroca(vetor, i, oposto)\n",
        "\t\t}\n",
        "\t}\n",
        "}\n",
        "\n",
        "func main() {\n",
        "\tvar numCasos int\n",
        "\tfmt.Scanln(&numCasos)\n",
        "\n",
        "\tfor caso := 0; caso < numCasos; caso++ {//cada caso de teste\n",
        "\t\tvar t int//tamanho\n",
        "\t\tfmt.Scanln(&t)\n",
        "\n",
        "\t\tvetor := make([]int, t)\n",
        "\t\tfor i := 0; i < t; i++ {\n",
        "\t\t\tfmt.Scan(&vetor[i])\n",
        "\t\t}\n",
        "\n",
        "\t\ttrocaOpostosSeMenor(vetor)\n",
        "\n",
        "\t\tfor i := 0; i < t; i++ {//imprime resultado\n",
        "\t\t\tfmt.Printf(\"%d \", vetor[i])\n",
        "\t\t}\n",
        "\t\tfmt.Println() // Quebra de linha(?)\n",
        "\t}\n",
        "}//muito difícil, slk\n",
        "//precisei de ajuda\n"
      ],
      "metadata": {
        "id": "LHnpSrJmPfGl"
      },
      "execution_count": null,
      "outputs": []
    },
    {
      "cell_type": "code",
      "source": [
        "//3\n",
        "package main\n",
        "\n",
        "import(\n",
        "    \"fmt\"\n",
        "    \"sort\"\n",
        "    )\n",
        "\n",
        "func main(){\n",
        "    var q int\n",
        "    fmt.Scan(&q)\n",
        "\n",
        "    ordem:=make([]int,q)\n",
        "\n",
        "    for i:=0;i<q;i++{\n",
        "        fmt.Scanln(&ordem[i])\n",
        "    }\n",
        "\n",
        "    sort.Ints(ordem)\n",
        "    fmt.Print(ordem)\n",
        "\n",
        "}"
      ],
      "metadata": {
        "id": "6iEcFabQPdG3"
      },
      "execution_count": null,
      "outputs": []
    }
  ],
  "metadata": {
    "colab": {
      "name": "Olá, este é o Colaboratory",
      "toc_visible": true,
      "provenance": []
    },
    "kernelspec": {
      "display_name": "Python 3",
      "name": "python3"
    }
  },
  "nbformat": 4,
  "nbformat_minor": 0
}