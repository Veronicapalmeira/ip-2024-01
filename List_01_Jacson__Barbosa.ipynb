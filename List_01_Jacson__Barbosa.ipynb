{
  "nbformat": 4,
  "nbformat_minor": 0,
  "metadata": {
    "colab": {
      "provenance": [],
      "authorship_tag": "ABX9TyPtrCHzq+s3fV/TWssa54iT",
      "include_colab_link": true
    },
    "kernelspec": {
      "name": "python3",
      "display_name": "Python 3"
    },
    "language_info": {
      "name": "python"
    }
  },
  "cells": [
    {
      "cell_type": "markdown",
      "metadata": {
        "id": "view-in-github",
        "colab_type": "text"
      },
      "source": [
        "<a href=\"https://colab.research.google.com/github/Veronicapalmeira/ip-2024-01/blob/main/List_01_Jacson__Barbosa.ipynb\" target=\"_parent\"><img src=\"https://colab.research.google.com/assets/colab-badge.svg\" alt=\"Open In Colab\"/></a>"
      ]
    },
    {
      "cell_type": "code",
      "execution_count": null,
      "metadata": {
        "id": "jpvWiUNkI2Ee"
      },
      "outputs": [],
      "source": []
    },
    {
      "cell_type": "markdown",
      "source": [],
      "metadata": {
        "id": "akU1TS0ZNOlH"
      }
    },
    {
      "cell_type": "markdown",
      "source": [
        "**Questão 1**\n",
        "\n",
        "Leia (nota1,nota2,nota3)\n",
        "\n",
        "Media <- (nota1 + nota2 + nota3)/3\n",
        "\n",
        "se Media >= 6 entao\n",
        "\n",
        "escreval(\"MEDIA =\",Media)\n",
        "\n",
        "escreva (\"Aprovado\")\n",
        "\n",
        "Senão\n",
        "\n",
        "escreval(\"MEDIA =\",Media)\n",
        "\n",
        "escreva (\"Reprovado\")\n",
        "\n",
        "fimse\n",
        "\n",
        "\n",
        "\n"
      ],
      "metadata": {
        "id": "7fh8wVG6J6VQ"
      }
    },
    {
      "cell_type": "markdown",
      "source": [
        "**Questão 2**\n",
        "\n",
        "escreva (\"número de casos de testes: \")\n",
        "\n",
        "leia (nc)\n",
        "\n",
        "nct <- 0\n",
        "\n",
        "enquanto (nc > nct) faca\n",
        "\n",
        "escreval (\"número de pessoas e as percentagens de Popular, Geral, Arquibancada e Cadeiras: \")\n",
        "\n",
        "leia (p)\n",
        "\n",
        "leia (pp)\n",
        "\n",
        "leia (pg)\n",
        "\n",
        "leia (pa)\n",
        "\n",
        "leia (pc)\n",
        "\n",
        "VT <- ((p * pp/100 * 1) + (p * pg/100 * 5) + (p * pa/100 * 10) + (p * pc/100 * 20))\n",
        "\n",
        "escreval (\"A RENDA DO JOGO N.\", nct + 1, \" E =\", vt)\n",
        "\n",
        "nct <- (nct + 1)\n",
        "\n",
        "fimenquanto\n"
      ],
      "metadata": {
        "id": "vFNGZxVVToWT"
      }
    },
    {
      "cell_type": "markdown",
      "source": [
        "**Questão 3**\n",
        "\n",
        "leia(n1,n2,n3)\n",
        "\n",
        "se(0>= n1 >9) e (0>=n2>9) e (0>n3>9) entao\n",
        "\n",
        "escreva(\"DIGITO INVALIDO\")\n",
        "\n",
        "senão\n",
        "\n",
        "s <- (n1*100)+(n2*10)+n3\n",
        "\n",
        "m <- s*s\n",
        "\n",
        "escreva(s,\", \", m)\n",
        "\n",
        "fimse"
      ],
      "metadata": {
        "id": "f4dH-MV_TPcx"
      }
    },
    {
      "cell_type": "markdown",
      "source": [
        "**Questão 4**\n",
        "\n",
        "escreval(\"salário mínimo: \")\n",
        "\n",
        "leia(SM)\n",
        "\n",
        "escreval(\"quantidade de kW gasta:\")\n",
        "\n",
        "leia(CKW)\n",
        "\n",
        "CW <- SM*0.7/100\n",
        "\n",
        "escreval(\"Custo por kW: R$ \", CW)\n",
        "\n",
        "CC <- CW*CKW\n",
        "\n",
        "escreval(\"Custo do consumo: R$ \", CC)\n",
        "\n",
        "CD <- CC*0.9\n",
        "\n",
        "escreva(\"Custo com desconto: R$ \", CD)\n"
      ],
      "metadata": {
        "id": "3Qu7riVD2UE_"
      }
    },
    {
      "cell_type": "markdown",
      "source": [
        "**Questão 5**\n",
        "\n",
        "escreval(\"Digite o número da conta do cliente: \")\n",
        "\n",
        "leia(cc)\n",
        "\n",
        "escreval(\"Digite o consumo de água em metros cúbicos: \")\n",
        "   \n",
        "leia(ca)\n",
        "\n",
        "escreval(\"Digite o tipo de consumidor (R - Residencial, C - Comercial, I - Industrial): \")\n",
        "    \n",
        "leia(tc)\n",
        "\n",
        "se (tc = R) entao\n",
        "\n",
        "    vc <- 5 + 0.05 * ca\n",
        "    \n",
        "senao\n",
        "se (tc = C) entao\n",
        "        \n",
        "    se (ca <= 80) entao\n",
        "            \n",
        "    vc <- 500\n",
        "        \n",
        "    senao\n",
        "            \n",
        "    vc <- 500 + 0.25 * (ca - 80)\n",
        "        \n",
        "    fimse\n",
        "    \n",
        "senao se (tc = I) então\n",
        "        \n",
        "    se (ca <= 100) entao\n",
        "            \n",
        "    vc <- 800\n",
        "       \n",
        "    senao\n",
        "            \n",
        "    vc <- 800 + 0.04 * (ca - 100)\n",
        "        \n",
        "    fimse\n",
        "    \n",
        "fimse\n",
        "    \n",
        "escreval(\"CONTA = \", cc)\n",
        "    \n",
        "escreva(\"VALOR DA CONTA = \", vc)"
      ],
      "metadata": {
        "id": "qLkQrWezLYS-"
      }
    },
    {
      "cell_type": "markdown",
      "source": [
        "**Questão 6**\n",
        "\n",
        "escreval(\"numero de temperaturas em Fahrenheit a serem convertidas para Celsius\")\n",
        "\n",
        "leia(n)\n",
        "\n",
        "ne <- 0\n",
        "\n",
        "enquanto (n > ne) faca\n",
        "\n",
        "escreval(\"temperaturas em Fahrenheit: \")\n",
        "\n",
        "leia(tconvertida)\n",
        "\n",
        "TC <- 5*(tconvertida-32)/9\n",
        "\n",
        "escreval(tconvertida,\" FAHRENHEIT EQUIVALE A \",TC,\" celsius\")\n",
        "\n",
        "ne <- (ne+1)\n",
        "\n",
        "fimenquanto\n"
      ],
      "metadata": {
        "id": "h5hAWkdHV3PF"
      }
    },
    {
      "cell_type": "markdown",
      "source": [
        "**Questão 7**\n",
        "escreval(\" valor em Fahrenheit: \")\n",
        "\n",
        "leia(F)\n",
        "\n",
        "escreval( \"valor em polegadas:\")\n",
        "\n",
        "leia(P)\n",
        "\n",
        "C1 <- (5*F-160)/9\n",
        "\n",
        "M2 <- P*25.4\n",
        "\n",
        "escreval(\"O VALOR EM CELSIUS =\", C1)\n",
        "\n",
        "escreva(\"A QUANTIDADE DE CHUVA E = \", M2)"
      ],
      "metadata": {
        "id": "jrrSDzC8jx_O"
      }
    },
    {
      "cell_type": "markdown",
      "source": [
        "**Questão 8**\n",
        "escreval(\"raio:\")\n",
        "\n",
        "leia(r)\n",
        "\n",
        "escreval(\"altura\")\n",
        "\n",
        "leia(h)\n",
        "\n",
        "pi <- 3.14159\n",
        "\n",
        "AC <- pi*(r^2)\n",
        "\n",
        "AL <- 2*pi*r*h\n",
        "\n",
        "AT <- 2*AC+ AL\n",
        "\n",
        "C <- AT*100\n",
        "\n",
        "escreva(\"O VALOR DO CUSTO E = \", C)\n",
        "\n",
        "\n",
        "\n"
      ],
      "metadata": {
        "id": "7Ry3l5HFmgI2"
      }
    },
    {
      "cell_type": "markdown",
      "source": [
        "**Questão 9**\n",
        "escreval(\"escreva os valores de a,b e c, respectivamente:)\n",
        "\n",
        "leia(a,b,c)\n",
        "\n",
        "D <- (b^2)-4*a*c\n",
        "\n",
        "escreva(\"O VALOR DE DELTA E = \", D)\n"
      ],
      "metadata": {
        "id": "efWTBxE1pcI1"
      }
    },
    {
      "cell_type": "markdown",
      "source": [
        "**Questão 10:**\n",
        "escreval(\"valores a,b,c e d da matriz:\")\n",
        "\n",
        "leia(a,b,c,d)\n",
        "\n",
        "M <- (a*d)-(b*c)\n",
        "\n",
        "escreva(\"O VALOR DO DETERMINANTE E = \",M)\n",
        "\n",
        "\n",
        "\n",
        "\n",
        "\n",
        "\n"
      ],
      "metadata": {
        "id": "yHNsu6q-rR9p"
      }
    },
    {
      "cell_type": "markdown",
      "source": [
        "**Questão 11**\n",
        "\n",
        "escreval(\"escreva o número:\")\n",
        "\n",
        "leia(N)\n",
        "\n",
        "se (N/3) ou (N/5) ∈ Z entao\n",
        "\n",
        "escreva(\" O NUMERO E DIVISIVEL\")\n",
        "\n",
        "senão\n",
        "\n",
        "escreva(\"O NUMERO NAO E DIVISIVEL\")\n",
        "\n",
        "fimse\n",
        "\n"
      ],
      "metadata": {
        "id": "fRdAeTn0tRIk"
      }
    },
    {
      "cell_type": "markdown",
      "source": [
        "**Questão 12**\n",
        "\n",
        "leia(H)\n",
        "\n",
        "Se H>=3 entao\n",
        "\n",
        "V <- (H*10)/3\n",
        "\n",
        "Se H<3 entao\n",
        "\n",
        "V <- 5*H\n",
        "\n",
        "Escreva(\"O VALOR A PAGAR E = \",V)\n",
        "\n",
        "fimse\n"
      ],
      "metadata": {
        "id": "Is7F6dAXuTYh"
      }
    },
    {
      "cell_type": "markdown",
      "source": [
        "**Questão 13**\n",
        "\n",
        "leia(nota)\n",
        "\n",
        "Se 0<=nota<6 entao\n",
        "\n",
        "C <- \"D\"\n",
        "\n",
        "Se 6<=nota<7.5 entao\n",
        "\n",
        "C <- \"C\"\n",
        "\n",
        "Se 7.5<=nota<9 entao\n",
        "\n",
        "C <- \"B\"\n",
        "\n",
        "Se 9<=nota<=10 entao\n",
        "\n",
        "C <- \"A\"\n",
        "\n",
        "escreva(\"nota = \", nota, \"conceito = \", C)\n",
        "\n",
        "fimse\n"
      ],
      "metadata": {
        "id": "MrpApMoJxPCZ"
      }
    },
    {
      "cell_type": "markdown",
      "source": [
        "**Questão 14**\n",
        "\n",
        "leia(h,a)\n",
        "\n",
        "Ab <- 3*(a^2)*(RaizQ(3))/2\n",
        "\n",
        "V <- (1*Ab*h)/3\n",
        "\n",
        "escreva(\"O VOLUME DA PIRAMIDE E = \", V,\" METROS CUBICOS\")\n"
      ],
      "metadata": {
        "id": "LgyB1uYG2hH1"
      }
    },
    {
      "cell_type": "markdown",
      "source": [
        "**Questão 15**\n",
        "\n",
        "leia(N)\n",
        "\n",
        "se (5 >= N >= 2000) entao\n",
        "\n",
        "para i de 2 em 2 até N\n",
        "\n",
        "n2 <- i*i  \n",
        "\n",
        "escreva(i,\"^2 = \",n2)\n",
        "\n",
        "fimse\n",
        "\n",
        "\n",
        "\n",
        "\n",
        "\n",
        "\n",
        "\n"
      ],
      "metadata": {
        "id": "RmO3Yvc27kmI"
      }
    },
    {
      "cell_type": "markdown",
      "source": [
        "**Questão 16**\n",
        "\n",
        "Leia(S)\n",
        "\n",
        "Se (S<=300) entao\n",
        "\n",
        "SR <- (S*15)/10\n",
        "\n",
        "fimse\n",
        "\n",
        "Se (S>300) entao\n",
        "\n",
        "SR <- (S*13)/10\n",
        "\n",
        "Escreva(\"SALARIO COM REAJUSTE = \" ,SR)\n",
        "\n",
        "fimse"
      ],
      "metadata": {
        "id": "qhg2_Wy7-3Fg"
      }
    },
    {
      "cell_type": "markdown",
      "source": [
        "**Questões 17**\n",
        "\n",
        "\n",
        "leia(n1,n2)\n",
        "\n",
        "se n1%2=0 entao\n",
        "\n",
        "para i de 1 ate n2 faça\n",
        "\n",
        "escreva(n1, \" \")\n",
        "\n",
        "n1 <- n1+2\n",
        "\n",
        "fimpara\n",
        "\n",
        "senão\n",
        "\n",
        "escreva(\"O PRIMEIRO NUMERO NAO E PAR\")\n",
        "\n",
        "fimse"
      ],
      "metadata": {
        "id": "B9-XnemYAOUX"
      }
    },
    {
      "cell_type": "markdown",
      "source": [
        "**Questão 18**\n",
        "\n",
        "Leia(V1,r,ne)\n",
        "\n",
        "Vn <- V1+((ne-1)*r)\n",
        "\n",
        "soma <- (V1+Vn)*ne/2\n",
        "\n",
        "escreva(soma)\n",
        "\n",
        "\n"
      ],
      "metadata": {
        "id": "tP95bSR5DGSk"
      }
    },
    {
      "cell_type": "markdown",
      "source": [
        "**Questão 19**\n",
        "\n",
        "leia(n)\n",
        "\n",
        "se (n <= 1) então\n",
        "        \n",
        "escreva(\"Numero invalido!\")\n",
        "    \n",
        "senao\n",
        "      \n",
        "soma <- 0\n",
        "\n",
        "k <- 1    \n",
        "\n",
        "enquanto (k <=n) faça\n",
        "\n",
        "soma <- soma+1/k\n",
        "\n",
        "k <- k+1\n",
        "\n",
        "fimenquanto\n",
        "\n",
        "escreva(soma:0:6)\n",
        "\n",
        "fimse\n"
      ],
      "metadata": {
        "id": "6PeGTbHsqbIg"
      }
    },
    {
      "cell_type": "markdown",
      "source": [
        "**Questão 20**\n",
        "\n",
        "leia(h,m,s)\n",
        "\n",
        "T1 <- h*3600\n",
        "\n",
        "T2 <- m*60\n",
        "\n",
        "TS <- T1+T2+s\n",
        "\n",
        "escreva(\"O TEMPO EM SEGUNDOS E =\", TS)\n"
      ],
      "metadata": {
        "id": "cuk-AoEcrp4Z"
      }
    },
    {
      "cell_type": "markdown",
      "source": [],
      "metadata": {
        "id": "F5_6Is7qEZbT"
      }
    }
  ]
}